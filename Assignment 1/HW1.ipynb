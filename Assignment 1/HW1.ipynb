{
 "cells": [
  {
   "cell_type": "markdown",
   "metadata": {},
   "source": [
    "# HW1 - Higher order functions and Typing\n",
    "## https://www.cs.bgu.ac.il/~ppl172\n",
    "\n",
    "Provide your answers in each cell of this notebook marked with **answer**.  \n",
    "Whenever justifications are requested, write your explanation clearly and concisely.\n",
    "\n",
    "When you write TypeScript code, make sure it passes compilation (tsc) with no type checking error.\n",
    "\n",
    "All the places where answers are expected are marked with '@@@'."
   ]
  },
  {
   "cell_type": "markdown",
   "metadata": {},
   "source": [
    "# Q1 Theoretical Questions\n",
    "### Q1.1 Type Relations \n",
    "\n",
    "* What is the intersection of the types denoted by the following two expressions:\n",
    "  \n",
    "  `{a:number}[]` and `{b:string}[]`\n",
    "  \n",
    "  Describe values in the type (give examples, characterize them) and write a TypeScript type expression that denotes this intersection.\n",
    "  \n",
    "  \n",
    "  "
   ]
  },
  {
   "cell_type": "markdown",
   "metadata": {
    "collapsed": false
   },
   "source": [
    "// the intersetion of the types is an array of map with the keys: a:number, b:string. here are some examples:\n",
    "[{a:5, b:\"vafd\"}]\n",
    "[{a:5,b:'dsv'}, {a:7, b:\"543\"}]\n",
    "[{b:'dsv', a:5}]\n",
    "\n",
    "type AandB = { b: string; a: number; }[]\n"
   ]
  },
  {
   "cell_type": "markdown",
   "metadata": {},
   "source": [
    "### Q1.2 Subtypes\n",
    "\n",
    "* For each of the pairs (T1, T2) below, determine whether the type T1 is a subtype of T2 - justify your answer:\n",
    "\n",
    "```\n",
    "1.2.1 \n",
    "type T1 = {a:number, b:{}}\n",
    "type T2 = {a:number}\n",
    "\n",
    "1.2.2\n",
    "type T1 = {a:number, b:any}\n",
    "type T2 = {a:number}\n",
    "\n",
    "1.2.3\n",
    "type T1 = {a:number, b:undefined}\n",
    "type T2 = {a:number}\n",
    "```"
   ]
  },
  {
   "cell_type": "markdown",
   "metadata": {},
   "source": [
    "### 1.2 Answer\n",
    "\n",
    "1.2.1\n",
    "\n",
    "yes, t1 type is a subtype of t2.\n",
    "t1 is a map, as well as t2.\n",
    "t1 has all the keys of t2, and the value is of the same type (in this case - only one key, a:number). \n",
    "\n",
    "-\n",
    "\n",
    "1.2.2\n",
    "\n",
    "yes, t1 type is a subtype of t2.\n",
    "t1 is a map, as well as t2.\n",
    "t1 has all the keys of t2, and the value is of the same type (in this case - only one key, a:number). \n",
    "\n",
    "-\n",
    "\n",
    "1.2.3\n",
    "\n",
    "yes, t1 type is a subtype of t2.\n",
    "t1 is a map, as well as t2.\n",
    "t1 has all the keys of t2, and the value is of the same type (in this case - only one key, a:number). \n",
    "\n",
    "-"
   ]
  },
  {
   "cell_type": "markdown",
   "metadata": {},
   "source": [
    "### Q1.3 Type Inference\n",
    "\n",
    "* Write the type of the following values as a TypeScript type expression:\n",
    "  * let v1 = `[{a:1}]`,\n",
    "  *     v2 = `{a:[1]}`\n",
    "  *     v3 = `x => x / 2`,\n",
    "  *     v4 = `(f, x) => f(f(x))`"
   ]
  },
  {
   "cell_type": "markdown",
   "metadata": {},
   "source": [
    "### 1.3 Answer\n",
    "\n",
    "Type of v1 is: \n",
    "the type is: {a: number}[]\n",
    "\n",
    "\n",
    "Type of v2 is:\n",
    "the type is: {a:number []}\n",
    "\n",
    "\n",
    "Type of v3 is:\n",
    "the type is: (x: number) => number\n",
    "\n",
    "Type of v4 is:\n",
    "the type is: (f: (x: T1) => T1, x: T1) => T1\n"
   ]
  },
  {
   "cell_type": "markdown",
   "metadata": {},
   "source": [
    "* Compare the expression in `v3` and `v4` and explain when the inferred type expression contains type variables."
   ]
  },
  {
   "cell_type": "markdown",
   "metadata": {},
   "source": [
    "**Answer:**\n",
    "v4 contains type variable, and v3 doesn't.\n",
    "\n",
    "v3 receives a variable x, and divide it by 2. only numbers can perform this operation, so xmust be a number. the function return the divition result, which is a number too. \n",
    "v4 receives a variable x and a function. we know that f receives x as a parameter but x can be any type. so we need to use type variable here, to represent x's type.  "
   ]
  },
  {
   "cell_type": "markdown",
   "metadata": {},
   "source": [
    "### Q1.4 Function Type Inference\n",
    "\n",
    "Consider the following function:"
   ]
  },
  {
   "cell_type": "code",
   "execution_count": 162,
   "metadata": {
    "collapsed": false
   },
   "outputs": [
    {
     "data": {
      "text/plain": [
       "true"
      ]
     },
     "execution_count": 162,
     "metadata": {},
     "output_type": "execute_result"
    }
   ],
   "source": [
    "const invokeN1 = (f, n) => \n",
    "    n === 0 ? (x) => x : (x) => f(invokeN1(f,n-1)(x))"
   ]
  },
  {
   "cell_type": "markdown",
   "metadata": {},
   "source": [
    "  * Describe what the function computes in words\n",
    "  * Write the type of the function invokeN."
   ]
  },
  {
   "cell_type": "markdown",
   "metadata": {},
   "source": [
    "### 1.4 Answer\n",
    "\n",
    "\n",
    "- the function computes the result of f on x, n times.\n",
    "\n",
    "- the type of the function invokeN1 is Function of : ( (f: (x:T1) => T1) , n:number) => ((x:T1)=> T1) )\n",
    "-\n",
    "\n",
    "-\n"
   ]
  },
  {
   "cell_type": "markdown",
   "metadata": {},
   "source": [
    "### Q1.5 Types and Values\n",
    "\n",
    "* **1.5.1**: Is it possible to design a type in TypeScript that denotes the empty set using the constructs described in class?"
   ]
  },
  {
   "cell_type": "markdown",
   "metadata": {},
   "source": [
    "* **Answer 1.5.1**:\n",
    "yes, as a example:\n",
    "type a = void[];"
   ]
  },
  {
   "cell_type": "markdown",
   "metadata": {},
   "source": [
    "* **1.5.2** Is it possible to design a type in TypeScript that denotes a finite set of 5 values?"
   ]
  },
  {
   "cell_type": "markdown",
   "metadata": {},
   "source": [
    "* **Answer 1.5.2**:\n",
    "yes, as in this example:\n",
    "type a = [1 | 2 | 3 | 4 | 5];\n",
    "only finite sets of these 5 values can be denoted by this type."
   ]
  },
  {
   "cell_type": "markdown",
   "metadata": {},
   "source": [
    "* **1.5.3** Is it possible to design a type in TypeScript that denotes the set of even numbers?"
   ]
  },
  {
   "cell_type": "markdown",
   "metadata": {},
   "source": [
    "* **Answer 1.5.3**:\n",
    "no, assuming that numbers is infinite type, the even number group is also infinite.\n",
    "therefore, it cannot be represented explicately.\n",
    "in a type we cannot use a function to make this requirement, so it can't be done."
   ]
  },
  {
   "cell_type": "markdown",
   "metadata": {},
   "source": [
    "# Q2 Functional Abstractions over Trees\n",
    "\n",
    "Consider the definition of the inductive Tree data type.\n",
    "\n",
    "The set of Tree values is defined inductively as follows:\n",
    "* There is no empty tree.\n",
    "* The smallest tree is a tree with no children - a single node containing a single data element denoted $leaf(v)$.\n",
    "* For a set of trees $t_1, \\ldots, t_n$ and a data element $v_0$, one can construct a new tree whose root is has value $v_0$ and children $(t_1, \\ldots, t_n)$ - denoted $tree(v_0, (t_1, \\ldots, t_n))$.\n",
    "\n",
    "In this inductive definition, the height of the trees determines the inductive size of trees. The height of a tree is defined inductively as:\n",
    "* The height of a tree with no children is 0: $h(leaf(v)) = 0$.\n",
    "* For a tree with children, the height of the tree is 1 more than the max height of the children:\n",
    "  $h(tree(v_0, (t_1, \\ldots, t_n))) = 1 + max_{i \\in \\{1 \\ldots n\\}} h(t_i)$\n",
    "  \n",
    "Other properties or computations on trees have a similar inductive definition."
   ]
  },
  {
   "cell_type": "markdown",
   "metadata": {},
   "source": [
    "We write the following definition of a type denoting the set of Tree values as follows:"
   ]
  },
  {
   "cell_type": "code",
   "execution_count": 163,
   "metadata": {
    "collapsed": false
   },
   "outputs": [
    {
     "data": {
      "text/plain": [
       "{ root: 1,\n",
       "  children: [ { root: 2, children: [] }, { root: 3, children: [Object] } ] }"
      ]
     },
     "execution_count": 163,
     "metadata": {},
     "output_type": "execute_result"
    }
   ],
   "source": [
    "interface Tree<T> {\n",
    "    root: T;\n",
    "    children: Tree<T>[];\n",
    "}\n",
    "\n",
    "{\n",
    "    let b: Tree<number> = {\n",
    "        root: 1,\n",
    "        children: [\n",
    "            {root: 2, children: []},\n",
    "            {root: 3, children: [\n",
    "                {root: 4, children:[]}\n",
    "            ]}\n",
    "        ]\n",
    "    }\n",
    "    b;\n",
    "}"
   ]
  },
  {
   "cell_type": "markdown",
   "metadata": {},
   "source": [
    "We define the following functions to manipulate Tree values - providing an abstract interface for trees.\n",
    "It consists of two constructors - for leaf trees and non-leaf trees - and three accessors:"
   ]
  },
  {
   "cell_type": "code",
   "execution_count": 164,
   "metadata": {
    "collapsed": false
   },
   "outputs": [
    {
     "data": {
      "text/plain": [
       "true"
      ]
     },
     "execution_count": 164,
     "metadata": {},
     "output_type": "execute_result"
    }
   ],
   "source": [
    "const makeLeaf : <T>(v:T)=>Tree<T> =\n",
    "    v => {return {root: v, children:[]};}\n",
    "    \n",
    "const makeTree : <T>(v:T, children:Tree<T>[])=>Tree<T> =\n",
    "    (v, children) => { return {root:v, children:children}}\n",
    "\n",
    "const treeRoot : <T>(t: Tree<T>)=>T =\n",
    "    t => t.root;\n",
    "\n",
    "const treeChildren: <T>(t: Tree<T>)=>Tree<T>[] =\n",
    "    t => t.children;\n",
    "    \n",
    "const treeLeaf : <T>(t: Tree<T>)=>boolean =\n",
    "    t => t.children.length === 0;"
   ]
  },
  {
   "cell_type": "code",
   "execution_count": 165,
   "metadata": {
    "collapsed": false
   },
   "outputs": [
    {
     "data": {
      "text/plain": [
       "true"
      ]
     },
     "execution_count": 165,
     "metadata": {},
     "output_type": "execute_result"
    }
   ],
   "source": [
    "treeLeaf(makeLeaf(5))"
   ]
  },
  {
   "cell_type": "markdown",
   "metadata": {},
   "source": [
    "A function manipulating Tree values will typically perform a recursion similar to that observed in the definition of the `treeHeight` function:"
   ]
  },
  {
   "cell_type": "code",
   "execution_count": 166,
   "metadata": {
    "collapsed": false
   },
   "outputs": [
    {
     "data": {
      "text/plain": [
       "1"
      ]
     },
     "execution_count": 166,
     "metadata": {},
     "output_type": "execute_result"
    }
   ],
   "source": [
    "import {map as map1, reduce as reduce1} from 'ramda'\n",
    "\n",
    "const treeHeight : <T>(t:Tree<T>)=>number =\n",
    "    t => treeLeaf(t) ? \n",
    "            0 : \n",
    "            1 + reduce1(Math.max, 0, map1(treeHeight, treeChildren(t)));\n",
    "            )\n",
    "treeHeight(makeTree(1, [makeLeaf(2), makeLeaf(3)])"
   ]
  },
  {
   "cell_type": "code",
   "execution_count": 167,
   "metadata": {
    "collapsed": false
   },
   "outputs": [
    {
     "data": {
      "text/plain": [
       "2"
      ]
     },
     "execution_count": 167,
     "metadata": {},
     "output_type": "execute_result"
    }
   ],
   "source": [
    "treeHeight({ root: 1, children: [ { root: 2, children: [] }, { root: 3, children: [{root: 4, children:[]}] } ] })"
   ]
  },
  {
   "cell_type": "markdown",
   "metadata": {},
   "source": [
    "Other functions that operate on tree values will adopt a similar pattern of recursion:\n",
    "\n",
    "```\n",
    "const f: <T1,T2>(t:Tree<T1>)=>T2 =\n",
    "    t => treeLeaf(t) ? <basecase> : ...map(f, t.children)...;\n",
    "```\n",
    "\n",
    "In this question, we define **functional abstractions** over Tree values similar to the sequence interface we used over Array values - `map, filter, forEach, some, every, reduce`.\n",
    "\n",
    "We first define the type of the functions that will be passed as arguments to these higher order functions:"
   ]
  },
  {
   "cell_type": "code",
   "execution_count": 168,
   "metadata": {
    "collapsed": false
   },
   "outputs": [
    {
     "data": {
      "text/plain": [
       "true"
      ]
     },
     "execution_count": 168,
     "metadata": {},
     "output_type": "execute_result"
    }
   ],
   "source": [
    "type Command<T> = (x:T)=>void;\n",
    "type Transformer<T1,T2> = (x:T1)=>T2;\n",
    "type Predicate<T> = (x:T)=>boolean;\n",
    "type Accumulator<T1,T2> = (acc:T1, item:T2)=>T1;"
   ]
  },
  {
   "cell_type": "markdown",
   "metadata": {},
   "source": [
    "**Define the following functional abstractions over trees.**\n",
    "\n",
    "For each function:\n",
    "* provide the function definition \n",
    "* and four good test covering the code of the function as much as possible.\n",
    "\n",
    "Make sure your solution follows Functional Programming practice with no mutation to any variable."
   ]
  },
  {
   "cell_type": "markdown",
   "metadata": {},
   "source": [
    "### Question 2.1 treeMap\n",
    "\n",
    "`treeMap` operates over a Tree value.  It returns a new tree of the same shape as its parameter, where the value of each node is transformed by `f`."
   ]
  },
  {
   "cell_type": "code",
   "execution_count": 169,
   "metadata": {
    "collapsed": false
   },
   "outputs": [
    {
     "data": {
      "text/plain": [
       "true"
      ]
     },
     "execution_count": 169,
     "metadata": {},
     "output_type": "execute_result"
    }
   ],
   "source": [
    "// Answer 2.1\n",
    "import {map as map2, reduce as reduce2} from 'ramda'\n",
    "\n",
    "const treeMap: <T1,T2>(f: Transformer<T1,T2>, tree: Tree<T1>)=>Tree<T2> =\n",
    "    (f, tree) =>  treeLeaf(tree) ? makeTree(f(treeRoot(tree)), [])\n",
    "        : makeTree(f(treeRoot(tree)),\n",
    "            map2(<T1>(t:Tree<T1>) => treeMap(f, t),treeChildren(tree)));\n"
   ]
  },
  {
   "cell_type": "code",
   "execution_count": 170,
   "metadata": {
    "collapsed": false
   },
   "outputs": [
    {
     "data": {
      "text/plain": [
       "undefined"
      ]
     },
     "execution_count": 170,
     "metadata": {},
     "output_type": "execute_result"
    }
   ],
   "source": [
    "// treeMap test 1\n",
    "const assert = require('assert');\n",
    "let ourTree = makeTree(1, [makeLeaf(2), makeLeaf(3)]);\n",
    "const f:(x:number)=>number =(x)=> x*2;\n",
    "let ourTransformedTree = treeMap(f, ourTree);assert.deepEqual(ourTransformedTree, makeTree(2, [makeLeaf(4), makeLeaf(6)]), \"unsuccessful transform!\");"
   ]
  },
  {
   "cell_type": "code",
   "execution_count": 171,
   "metadata": {
    "collapsed": false
   },
   "outputs": [
    {
     "data": {
      "text/plain": [
       "undefined"
      ]
     },
     "execution_count": 171,
     "metadata": {},
     "output_type": "execute_result"
    }
   ],
   "source": [
    "// treeMap test 2\n",
    "\n",
    "let ourTree = makeTree(1, [makeLeaf(2), makeLeaf(3)]);\n",
    "const f:(x:number)=>string =(x)=> String(x);\n",
    "let ourTransformedTree = treeMap(f, ourTree);\n",
    "assert.deepEqual(ourTransformedTree, makeTree(\"1\", [makeLeaf(\"2\"), makeLeaf(\"3\")]), \"unsuccessful transform!\");\n"
   ]
  },
  {
   "cell_type": "code",
   "execution_count": 172,
   "metadata": {
    "collapsed": false
   },
   "outputs": [
    {
     "data": {
      "text/plain": [
       "undefined"
      ]
     },
     "execution_count": 172,
     "metadata": {},
     "output_type": "execute_result"
    }
   ],
   "source": [
    "// treeMap test 3\n",
    "\n",
    "let ourTree : Tree<string> = makeTree(\"hello\", [makeLeaf(\"there\"), makeLeaf(\"mate\")]);\n",
    "const f:(x:string)=>string =(x)=> x + \" :)\";\n",
    "let ourTransformedTree :Tree<string>= treeMap(f, ourTree);\n",
    "assert.deepEqual(ourTransformedTree,  makeTree(\"hello :)\", [makeLeaf(\"there :)\"), makeLeaf(\"mate :)\")]), \"unsuccessful transform!\");\n",
    "\n"
   ]
  },
  {
   "cell_type": "code",
   "execution_count": 173,
   "metadata": {
    "collapsed": false
   },
   "outputs": [
    {
     "data": {
      "text/plain": [
       "undefined"
      ]
     },
     "execution_count": 173,
     "metadata": {},
     "output_type": "execute_result"
    }
   ],
   "source": [
    "// treeMap test 4\n",
    "let ourTree : Tree<string> = makeTree(\"hello\", [makeLeaf(\"there\"), makeLeaf(\"mate\")]);\n",
    "const f:(x:string)=>boolean=(x)=> (x.length <= 4);\n",
    "let ourTransformedTree :Tree<boolean>= treeMap(f, ourTree);\n",
    "assert.deepEqual(ourTransformedTree,  makeTree(false, [makeLeaf(false), makeLeaf(true)]), \"unsuccessful transform!\");\n"
   ]
  },
  {
   "cell_type": "markdown",
   "metadata": {},
   "source": [
    "### Question 2.2 treeForEachDF\n",
    "\n",
    "`treeForEachDF` operates over a Tree value.  It traverses the tree node by node in depth-first order and applies the command `f` on each one.  The side effects of the command are observed in depth-first order."
   ]
  },
  {
   "cell_type": "code",
   "execution_count": 174,
   "metadata": {
    "collapsed": false
   },
   "outputs": [
    {
     "data": {
      "text/plain": [
       "true"
      ]
     },
     "execution_count": 174,
     "metadata": {},
     "output_type": "execute_result"
    }
   ],
   "source": [
    "// Answer 2.2 \n",
    "import {map as map3} from 'ramda'\n",
    "\n",
    "const treeForEachDF: <T>(f: Command<T>, tree: Tree<T>)=>void =\n",
    "    (f, tree) => {\n",
    "        f(treeRoot(tree));\n",
    "        map3(<T>(t: Tree<T>) => treeForEachDF(f, t), treeChildren(tree));}\n",
    "\n",
    "    \n",
    "    \n",
    "    "
   ]
  },
  {
   "cell_type": "code",
   "execution_count": 175,
   "metadata": {
    "collapsed": false
   },
   "outputs": [
    {
     "name": "stdout",
     "output_type": "stream",
     "text": [
      "1\n",
      "2\n",
      "3\n",
      "4\n",
      "5\n",
      "6\n",
      "7\n",
      "8\n",
      "9\n",
      "10\n"
     ]
    },
    {
     "data": {
      "text/plain": [
       "undefined"
      ]
     },
     "execution_count": 175,
     "metadata": {},
     "output_type": "execute_result"
    }
   ],
   "source": [
    "// treeForEachDF test 1\n",
    "let a = [];\n",
    "treeForEachDF((x:number)=> {console.log(x);\n",
    "                            a.push(x);},\n",
    "    makeTree(1,\n",
    "        [makeTree(2, [\n",
    "            makeLeaf(3), makeLeaf(4)\n",
    "        ]),\n",
    "        makeTree(5,[\n",
    "            makeTree(6,[\n",
    "                makeLeaf(7), makeLeaf(8)\n",
    "            ])\n",
    "            ]),\n",
    "        makeTree(9,[\n",
    "            makeLeaf(10)\n",
    "        ])]));\n",
    "\n",
    "assert.deepEqual([1,2,3,4,5,6,7,8,9,10],  a, \"unsuccessful transform!\");\n"
   ]
  },
  {
   "cell_type": "code",
   "execution_count": 176,
   "metadata": {
    "collapsed": false
   },
   "outputs": [
    {
     "name": "stdout",
     "output_type": "stream",
     "text": [
      "1\n"
     ]
    },
    {
     "data": {
      "text/plain": [
       "undefined"
      ]
     },
     "execution_count": 176,
     "metadata": {},
     "output_type": "execute_result"
    }
   ],
   "source": [
    "// treeForEachDF test 2\n",
    "let b = [];\n",
    "treeForEachDF((x:number)=> {console.log(x);\n",
    "                            b.push(x);},\n",
    "              makeTree(1,[]))\n",
    "assert.deepEqual([1],  b, \"unsuccessful transform!\");"
   ]
  },
  {
   "cell_type": "code",
   "execution_count": 177,
   "metadata": {
    "collapsed": false
   },
   "outputs": [
    {
     "name": "stdout",
     "output_type": "stream",
     "text": [
      "1 :-)\n",
      "2 :-)\n",
      "3 :-)\n",
      "4 :-)\n",
      "5 :-)\n",
      "6 :-)\n",
      "7 :-)\n",
      "8 :-)\n",
      "9 :-)\n",
      "10 :-)\n"
     ]
    },
    {
     "data": {
      "text/plain": [
       "undefined"
      ]
     },
     "execution_count": 177,
     "metadata": {},
     "output_type": "execute_result"
    }
   ],
   "source": [
    "// treeForEachDF test 3\n",
    "let c = [];\n",
    "treeForEachDF((x:number)=> {console.log(x +\" :-)\");\n",
    "                            c.push(x +\" :-)\");},\n",
    "    makeTree(\"1\",\n",
    "        [makeTree(\"2\", [\n",
    "            makeLeaf(\"3\"), makeLeaf(\"4\")\n",
    "        ]),\n",
    "        makeTree(\"5\",[\n",
    "            makeTree(\"6\",[\n",
    "                makeLeaf(\"7\"), makeLeaf(\"8\")\n",
    "            ])\n",
    "            ]),\n",
    "        makeTree(\"9\",[\n",
    "            makeLeaf(\"10\")\n",
    "        ])]))\n",
    "    \n",
    "assert.deepEqual([\"1 :-)\",\"2 :-)\",\"3 :-)\", \"4 :-)\",\n",
    "                  \"5 :-)\", \"6 :-)\", \"7 :-)\", \"8 :-)\", \"9 :-)\", \"10 :-)\"],\n",
    "                 c, \"unsuccessful transform!\");\n"
   ]
  },
  {
   "cell_type": "code",
   "execution_count": 178,
   "metadata": {
    "collapsed": false
   },
   "outputs": [
    {
     "name": "stdout",
     "output_type": "stream",
     "text": [
      "1 :-)\n"
     ]
    },
    {
     "data": {
      "text/plain": [
       "undefined"
      ]
     },
     "execution_count": 178,
     "metadata": {},
     "output_type": "execute_result"
    }
   ],
   "source": [
    "// treeForEachDF test 4\n",
    "let d = [];\n",
    "treeForEachDF((x:string)=> {console.log(x +\" :-)\");\n",
    "                            d.push(x +\" :-)\");},\n",
    "    makeTree(\"1\", []))\n",
    "\n",
    "    \n",
    "assert.deepEqual([\"1 :-)\"],\n",
    "                 d, \"unsuccessful transform!\");\n"
   ]
  },
  {
   "cell_type": "markdown",
   "metadata": {},
   "source": [
    "### Question 2.3 treeReduceDF\n",
    "\n",
    "`treeReduceDF` operates in a way similar to `reduce` on arrays: it traverses the tree in depth-first order, and at each node `t`, it computes `f(acc, t.root)` and continues with the value returned as the value of `acc` passed in the next node."
   ]
  },
  {
   "cell_type": "code",
   "execution_count": 179,
   "metadata": {
    "collapsed": false
   },
   "outputs": [
    {
     "data": {
      "text/plain": [
       "true"
      ]
     },
     "execution_count": 179,
     "metadata": {},
     "output_type": "execute_result"
    }
   ],
   "source": [
    "import {reduce as reduce4} from 'ramda'\n",
    "\n",
    "const treeReduceDF: <T1,T2>(f: Accumulator<T1,T2>, init: T1, tree: Tree<T2>)=>T1 =\n",
    "    (f, init, tree) => reduce4(<T1,T2>(acc:T1, t:Tree<T2>)=> treeReduceDF(f, acc, t),\n",
    "        f(init, treeRoot(tree)), treeChildren(tree));\n"
   ]
  },
  {
   "cell_type": "code",
   "execution_count": 180,
   "metadata": {
    "collapsed": false
   },
   "outputs": [
    {
     "data": {
      "text/plain": [
       "undefined"
      ]
     },
     "execution_count": 180,
     "metadata": {},
     "output_type": "execute_result"
    }
   ],
   "source": [
    "// treeReduceDF test 1\n",
    "let ourTree : Tree<number> =\n",
    "    makeTree(1,\n",
    "        [makeTree(2, [\n",
    "            makeLeaf(3), makeLeaf(4)\n",
    "        ]),\n",
    "            makeTree(5,[\n",
    "                makeTree(6,[\n",
    "                    makeLeaf(7), makeLeaf(8)\n",
    "                ])\n",
    "            ]),\n",
    "            makeTree(9,[\n",
    "                makeLeaf(10)\n",
    "            ])]);\n",
    "const f:Accumulator<number, number>=Math.max;\n",
    "assert.ok(treeReduceDF(f, -1, ourTree) == 10);\n",
    "\n"
   ]
  },
  {
   "cell_type": "code",
   "execution_count": 181,
   "metadata": {
    "collapsed": false
   },
   "outputs": [
    {
     "data": {
      "text/plain": [
       "undefined"
      ]
     },
     "execution_count": 181,
     "metadata": {},
     "output_type": "execute_result"
    }
   ],
   "source": [
    "// treeReduceDF test 2\n",
    "\n",
    "let ourTree : Tree<number> =\n",
    "    makeTree(1,\n",
    "        [makeTree(2, [\n",
    "            makeLeaf(3), makeLeaf(4)\n",
    "        ]),\n",
    "            makeTree(5,[\n",
    "                makeTree(6,[\n",
    "                    makeLeaf(7), makeLeaf(8)\n",
    "                ])\n",
    "            ]),\n",
    "            makeTree(9,[\n",
    "                makeLeaf(10)\n",
    "            ])]);\n",
    "const f:(acc:string, item:number)=>string = (acc, item)=>acc+ String(item);\n",
    "assert.ok(treeReduceDF(f, \"\", ourTree) == \"12345678910\");\n",
    "\n",
    "\n"
   ]
  },
  {
   "cell_type": "code",
   "execution_count": 182,
   "metadata": {
    "collapsed": false
   },
   "outputs": [
    {
     "data": {
      "text/plain": [
       "undefined"
      ]
     },
     "execution_count": 182,
     "metadata": {},
     "output_type": "execute_result"
    }
   ],
   "source": [
    "// treeReduceDF test 3\n",
    "\n",
    "let ourTree : Tree<number> =\n",
    "    makeTree(1,\n",
    "        [makeTree(2, [\n",
    "            makeLeaf(3), makeLeaf(4)\n",
    "        ]),\n",
    "            makeTree(5,[\n",
    "                makeTree(6,[\n",
    "                    makeLeaf(7), makeLeaf(8)\n",
    "                ])\n",
    "            ]),\n",
    "            makeTree(9,[\n",
    "                makeLeaf(10)\n",
    "            ])]);\n",
    "const f:Accumulator<number, number>=(acc, item)=>acc+item;\n",
    "assert.ok(treeReduceDF(f, 0, ourTree) == 55);\n",
    "\n",
    "\n"
   ]
  },
  {
   "cell_type": "code",
   "execution_count": 183,
   "metadata": {
    "collapsed": false
   },
   "outputs": [
    {
     "data": {
      "text/plain": [
       "undefined"
      ]
     },
     "execution_count": 183,
     "metadata": {},
     "output_type": "execute_result"
    }
   ],
   "source": [
    "// treeReduceDF test 4\n",
    "let ourTree : Tree<number> =\n",
    "    makeTree(1,\n",
    "        [makeTree(2, [\n",
    "            makeLeaf(3), makeLeaf(4)\n",
    "        ]),\n",
    "            makeTree(5,[\n",
    "                makeTree(6,[\n",
    "                    makeLeaf(7), makeLeaf(8)\n",
    "                ])\n",
    "            ]),\n",
    "            makeTree(9,[\n",
    "                makeLeaf(10)\n",
    "            ])]);\n",
    "const f:Accumulator<number, number>=(acc, item)=>acc*item;\n",
    "assert.ok(treeReduceDF(f,1, ourTree) == 3628800);\n"
   ]
  },
  {
   "cell_type": "markdown",
   "metadata": {},
   "source": [
    "### Question 2.4\n",
    "\n",
    "Why do we need to specify the order of traversal of the tree for `treeReduceDF`?\n",
    "\n",
    "Provide examples showing that with a different order of traversal, we could obtain different results when invoking `treeReduce`\n",
    "with the same parameters."
   ]
  },
  {
   "cell_type": "markdown",
   "metadata": {},
   "source": [
    "### Answer 2.4\n",
    "\n",
    "recursive operation may result different results with different orders in the same tree.\n",
    "for example:\n",
    "\n",
    "let ourTree : Tree<number> =\n",
    "    makeTree(1,\n",
    "        [makeTree(2, [\n",
    "            makeLeaf(3), makeLeaf(4)\n",
    "        ]),\n",
    "            makeTree(5,[\n",
    "                makeTree(6,[\n",
    "                    makeLeaf(7), makeLeaf(8)\n",
    "                ])\n",
    "            ]),\n",
    "            makeTree(9,[\n",
    "                makeLeaf(10)\n",
    "            ])]);\n",
    "            \n",
    "const f:(acc:string, item:number)=>string = (acc, item)=>acc+ String(item);\n",
    "\n",
    "string a = treeReduceDF(f, \"\", ourTree);\n",
    "\n",
    "\n",
    "if we do the depth-first-order traversal, we will get : a = \"12345678910\".\n",
    "if we do the post-order traversal, we will get : a = \"34278651091\".\n",
    "\n"
   ]
  },
  {
   "cell_type": "markdown",
   "metadata": {},
   "source": [
    "# Question 3: Runtime Type Checker\n",
    "\n",
    "We have practiced with TypeScript - a compiler which operates over JavaScript programs enriched with type annotations in the TypeScript type language and which performs type checking at compilation time, and outputs a JavaScript program as output.\n",
    "\n",
    "The TypeScript compiler (tsc) performs what is called **static code analysis** - an analysis of a program performed without executing the program itself.\n",
    "\n",
    "In this question, we design a **runtime type checker** - a function that verifies the type of a value at runtime - that is, check **at runtime** that a value belongs to a type.\n",
    "\n",
    "We call this function:\n",
    "\n",
    "```\n",
    "typeCheck(jsValue, typeExpression)=>boolean;\n",
    "```\n",
    "\n",
    "We first need to understand that this capability does **not** exist with TypeScript.\n",
    "TypeScript is a compiler - it provides no runtime library, it does not exist at runtime.\n",
    "After a TypeScript program is compiled into JavaScript, there are no types left in the JavaScript program, \n",
    "no type expressions and no type names.\n",
    "\n",
    "The values we want to type check at runtime, typically, will be JSON values obtained by reading from a file or from an HTTP call to a server returning JSON values.\n",
    "\n",
    "To achieve this goal, we need to represent type expressions as concrete values which will be passed to our function `typeCheck`.\n",
    "Remember - at runtime, TypeScript type expressions do not exist - so we need to create our own type expressions."
   ]
  },
  {
   "cell_type": "markdown",
   "metadata": {},
   "source": [
    "### Question 3.1 Concrete Representation of Type Expressions\n",
    "\n",
    "Let us consider a subset of the TypeScript type language that only includes the following type expressions:\n",
    "* Atomic type expressions: `number`, `string`, `boolean`\n",
    "* Arrays: for any type expression `T`, `T[]` is an array type expression.\n",
    "* Maps: for any type expressions T1,...,Tn and any strings s1,...sn - `{s1:T1, ..., sn:Tn}` is a map type expression.\n",
    "\n",
    "This is an inductive definition of the set of type expression values.\n",
    "\n",
    "Compared to the TypeScript type system we discussed in class, we do not consider function types, type unions, intersection, generic types, recursive types, undefined, any and named types.\n",
    "\n",
    "Our objective is to design a TypeScript type whose values are type expressions in this limited subset.\n",
    "We will also define functions to operate over this data type (constructors and accessors)."
   ]
  },
  {
   "cell_type": "markdown",
   "metadata": {},
   "source": [
    "For example, we want to define a value that represents the type expression `string[]`.\n",
    "We will use the following value:\n",
    "\n",
    "```\n",
    "const teSA = {\n",
    "    tag: \"array\",\n",
    "    itemType: \"string\"\n",
    "};\n",
    "```\n",
    "\n",
    "This value is the concrete representation of the type expression.\n",
    "We can pass it as an argument to the `typeCheck` function as follows:\n",
    "\n",
    "```\n",
    "typeCheck([\"aa\", \"bb\"], teSA); // true\n",
    "typeCheck([\"aa\", 1], teSA);    // false\n",
    "```\n",
    "\n",
    "We provide the following definitions using the acronym TE for Type Expression:"
   ]
  },
  {
   "cell_type": "code",
   "execution_count": 184,
   "metadata": {
    "collapsed": false
   },
   "outputs": [
    {
     "data": {
      "text/plain": [
       "true"
      ]
     },
     "execution_count": 184,
     "metadata": {},
     "output_type": "execute_result"
    }
   ],
   "source": [
    "// We adopt the Disjoint Union type pattern discussed in class.\n",
    "\n",
    "type TE = TeNumber | TeBoolean | TeString | TeArray | TeMap;\n",
    "\n",
    "// Atomic type expressions have no component\n",
    "interface TeNumber {\n",
    "    tag: \"number\";\n",
    "};\n",
    "interface TeBoolean {\n",
    "    tag: \"boolean\";\n",
    "};\n",
    "interface TeString {\n",
    "    tag: \"string\";\n",
    "};\n",
    "\n",
    "// Concrete representation of an Array Type Expression\n",
    "interface TeArray {\n",
    "    tag: \"array\";\n",
    "    itemType: TE;\n",
    "};"
   ]
  },
  {
   "cell_type": "markdown",
   "metadata": {},
   "source": [
    "**3.1** Complete the following type definition:"
   ]
  },
  {
   "cell_type": "code",
   "execution_count": 185,
   "metadata": {
    "collapsed": false
   },
   "outputs": [
    {
     "data": {
      "text/plain": [
       "true"
      ]
     },
     "execution_count": 185,
     "metadata": {},
     "output_type": "execute_result"
    }
   ],
   "source": [
    "// ANSWER 3.1: Complete the type definition\n",
    "interface TeMap {\n",
    "    tag: \"map\";\n",
    "    itemType: {[key:string]:TE};\n",
    "}\n"
   ]
  },
  {
   "cell_type": "markdown",
   "metadata": {},
   "source": [
    "### Question 3.2 Type Expression Constructors and Accessors\n",
    "\n",
    "We define an abstraction barrier around the `TE` data type in the form of constructors for type expressions\n",
    "of each type and accessors to retrieve the components of compound type expression values.\n",
    "\n",
    "Complete the types and definitions of the functions marked by @@@:"
   ]
  },
  {
   "cell_type": "code",
   "execution_count": 186,
   "metadata": {
    "collapsed": false
   },
   "outputs": [
    {
     "data": {
      "text/plain": [
       "true"
      ]
     },
     "execution_count": 186,
     "metadata": {},
     "output_type": "execute_result"
    }
   ],
   "source": [
    "// Constructors\n",
    "// ============\n",
    "const makeTeString : ()=>TeString =\n",
    "    () => { return {tag:\"string\"}};\n",
    "\n",
    "const makeTeNumber : ()=>TeNumber =\n",
    "    () => { return {tag:\"number\"}};\n",
    "\n",
    "\n",
    "const makeTeBoolean : ()=>TeBoolean =\n",
    "    () => { return {tag:\"boolean\"}};\n",
    "\n",
    "const makeTeArray : (itemType: TE)=>TeArray =\n",
    "    itemType => { return {tag: \"array\", itemType: itemType}};\n",
    "\n",
    "const makeTeMap : (itemType: {[key:string]:TE})=>TeMap =\n",
    "    (itemType) => { return {tag: \"map\", itemType: itemType}};\n",
    "\n",
    "// Type predicates\n",
    "// ===============\n",
    "const isTeNumber : (te:TE)=>boolean =\n",
    "    te => te.tag === \"number\";\n",
    "\n",
    "const isTeBoolean : (te:TE)=>boolean =\n",
    "    te => te.tag === \"boolean\";\n",
    "\n",
    "const isTeString : (te:TE)=>boolean =\n",
    "    te => te.tag === \"string\";\n",
    "\n",
    "const isTeArray : (te:TE)=>boolean =\n",
    "    te => te.tag === \"array\";\n",
    "\n",
    "const isTeMap : (te:TE)=>boolean =\n",
    "    te => te.tag === \"map\";\n",
    "// Accessors\n",
    "// =========\n",
    "const teArrayItemType : (tea : TeArray)=>TE =\n",
    "    tea => tea.itemType;\n",
    "\n",
    "const teMapKey : (tem : TeMap, key: string)=> TE =\n",
    "    (tem, key) => tem.itemType[key];\n"
   ]
  },
  {
   "cell_type": "markdown",
   "metadata": {},
   "source": [
    "Test these functions by constructing the value representing the following type expression and accessing its components:\n",
    "\n",
    "```\n",
    "{ a:string; b:number[]; c:{c1:boolean; c2:string[][]}}\n",
    "```"
   ]
  },
  {
   "cell_type": "code",
   "execution_count": 187,
   "metadata": {
    "collapsed": false
   },
   "outputs": [
    {
     "data": {
      "text/plain": [
       "undefined"
      ]
     },
     "execution_count": 187,
     "metadata": {},
     "output_type": "execute_result"
    }
   ],
   "source": [
    "\n",
    "// Test constructors\n",
    "assert.ok(\"string\"=== makeTeString().tag);\n",
    "assert.ok(\"number\"=== makeTeNumber().tag);\n",
    "assert.ok(\"boolean\"=== makeTeBoolean().tag);\n",
    "\n",
    "assert.ok(\"array\"=== makeTeArray(makeTeNumber()).tag);\n",
    "assert.ok(\"number\"=== makeTeArray(makeTeNumber()).itemType.tag);\n",
    "\n",
    "assert.ok(\"map\" === makeTeMap({\"abc\": makeTeNumber()}).tag);\n",
    "assert.ok(\"number\" === makeTeMap({\"abc\": makeTeNumber()}).itemType[\"abc\"].tag);\n",
    "// Test accessors\n",
    "assert.ok(\"string\"=== teArrayItemType(makeTeArray(makeTeString())).tag);\n",
    "assert.ok(\"boolean\"=== teMapKey(makeTeMap({\"bool\":makeTeBoolean()}), \"bool\").tag);\n"
   ]
  },
  {
   "cell_type": "code",
   "execution_count": null,
   "metadata": {
    "collapsed": true
   },
   "outputs": [],
   "source": []
  },
  {
   "cell_type": "markdown",
   "metadata": {},
   "source": [
    "### Question 3.3: typeChecker as a Recursive Algorithm\n",
    "\n",
    "We now design the type checker algorithm.\n",
    "Given a JavaScript value and a type expression value - we want to verify whether the value belongs to the type denoted by the type expression.\n",
    "\n",
    "We design the rules of type checking in an inductive manner - through structural induction on the structure of the type expression values.\n",
    "\n",
    "```\n",
    "Type Checker Algorithm: \n",
    "typeCheck(jsValue:any, te:TE)=>boolean\n",
    "Verify that jsValue belongs to the type denoted by te.\n",
    "\n",
    "if te is atomic:\n",
    "    if te is `number`: checkNumber(jsValue)\n",
    "    else if te is `string`: checkString(jsValue)\n",
    "    else if te is `boolean`: checkBoolean(jsValue)\n",
    "else te is a compound type expression:    \n",
    "    if te is an array: checkArray(jsValue, te)\n",
    "    if te is a map: checkMap(jsValue, te)\n",
    "```\n",
    "\n",
    "We know that this algorithm tests all possible values of the `te` parameter based on its type (a disjoint union type).\n",
    "\n",
    "We now turn to the definition of the sub-procedures in this definition:\n",
    "\n",
    "For atomic type expressions - we rely on the JavaScript introspection primitives - `typeof`:\n",
    "```\n",
    "checkNumber: \n",
    "checkNumber(jsValue:any)=>boolean:\n",
    "Verify that jsValue belongs to the set of numbers in JavaScript.\n",
    "\n",
    "    typeof jsValue === \"number\"\n",
    "```"
   ]
  },
  {
   "cell_type": "markdown",
   "metadata": {},
   "source": [
    "#### Answer 3.3.1\n",
    "\n",
    "Complete the algorithm definition (using the same pseudo code format as the definitions above):\n",
    "* \n",
    "```\n",
    "checkString:\n",
    "\n",
    "checkString(jsValue:any)=>boolean:\n",
    "Verify that jsValue belongs to the set of numbers in JavaScript.\n",
    "\n",
    "    typeof jsValue === \"string\"\n",
    "```\n",
    "\n",
    "\n",
    "* \n",
    "```\n",
    "checkBoolean:\n",
    "checkBoolean(jsValue:any)=>boolean:\n",
    "Verify that jsValue belongs to the set of numbers in JavaScript.\n",
    "\n",
    "    typeof jsValue === \"boolean\"\n",
    "```\n",
    "\n"
   ]
  },
  {
   "cell_type": "markdown",
   "metadata": {},
   "source": [
    "For compound type expressions - we need to check the JavaScript type of jsValue, verify what type of container it is (array or map), and if it matches the type denoted by `te` (array or map respectively) then, recursively, type check the components of the value.\n",
    "\n",
    "Note that in the recursive step, we break down jsValue using the JavaScript accessors of the JavaScript value container, and we break down the `te` type expression using the accessors of the Type Expression data type.\n",
    "\n",
    "For Array type expressions - this recursive method is defined as follows:\n",
    "```\n",
    "checkArray:\n",
    "checkArray(jsValue:any, te:TeArray)=>boolean:\n",
    "Verify the jsValue belongs to the set of array values denoted by te.\n",
    "\n",
    "    jsValue instanceof \"Array\" && every item of jsValue verifies\n",
    "        checkType(item, te.itemType)\n",
    "```"
   ]
  },
  {
   "cell_type": "markdown",
   "metadata": {},
   "source": [
    "#### Answer 3.3.2\n",
    "\n",
    "Complete the algorithm definition of:\n",
    "* checkMap\n",
    "\n",
    "checkMap:\n",
    "checkMap(jsValue:any, te:TeMap)=>boolean:\n",
    "Verify the jsValue belongs to the set of map values denoted by te.\n",
    "\n",
    "    jsValue not instanceof \"Array\" && every item in keys array of jsValue verifies\n",
    "        checkType(jsValue[item], te.itemType[first key in the key array of te.itemType])\n",
    "                            \n",
    "\n",
    "        \n",
    "```\n",
    "\n",
    "-\n",
    "\n",
    "-\n",
    "\n",
    "-\n",
    "\n",
    "\n",
    "\n",
    "\n",
    "\n",
    "\n"
   ]
  },
  {
   "cell_type": "markdown",
   "metadata": {},
   "source": [
    "### Question 3.4 Implement the typeCheck function\n",
    "\n",
    "Implement in TypeScript the recursive typeCheck algorithm defined above.\n",
    "Use the `switch` method to manipulate disjoint union types as discussed in class."
   ]
  },
  {
   "cell_type": "code",
   "execution_count": 188,
   "metadata": {
    "collapsed": false
   },
   "outputs": [
    {
     "data": {
      "text/plain": [
       "true"
      ]
     },
     "execution_count": 188,
     "metadata": {},
     "output_type": "execute_result"
    }
   ],
   "source": [
    "import {reduce as reduce7, map as map7} from 'ramda'\n",
    "\n",
    "const checkNumber: (jsValue:any)=>boolean =\n",
    "    (jsValue) => typeof jsValue === \"number\";\n",
    "\n",
    "//checkString:\n",
    "const checkString: (jsValue:any)=>boolean =\n",
    "    (jsValue) => typeof jsValue === \"string\";\n",
    "\n",
    "// checkBoolean:\n",
    "const checkBoolean: (jsValue:any)=>boolean =\n",
    "    (jsValue) => typeof jsValue === \"boolean\";\n",
    "\n",
    "// checkArray:\n",
    "const checkArray : (jsValue:any, te:TeArray)=>boolean =\n",
    "    (jsValue, te) =>\n",
    "    {      \n",
    "        return jsValue instanceof  Array &&\n",
    "            reduce7((acc,item)=>acc && (typeCheck(item, te.itemType)) , true, jsValue);\n",
    "    };\n",
    "\n",
    "const checkMap: (jsValue:any, te:TeMap)=>boolean =\n",
    "    (jsValue, te) =>\n",
    "    {\n",
    "        return (typeof jsValue === \"object\") && (!(jsValue instanceof Array)) &&\n",
    "            reduce7((acc,item)=> acc && (typeCheck(jsValue[item], \n",
    "                            te.itemType[Object.keys(te.itemType)[0]])), true, Object.keys(jsValue));\n",
    "    };\n",
    "\n",
    "\n",
    "const typeCheck : (jsValue:any, te:TE)=>boolean =\n",
    "    (jsValue, te) =>{\n",
    "        if (isTeNumber(te)){ return checkNumber(jsValue);}\n",
    "        else if (isTeString(te)){ return checkString(jsValue);}\n",
    "        else if (isTeBoolean(te)){ return checkBoolean(jsValue);}\n",
    "        else if (isTeArray(te)){ return checkArray(jsValue,<TeArray> te);}\n",
    "        else if (isTeMap(te)){ return checkMap(jsValue, <TeMap> te);}\n",
    "    };\n"
   ]
  },
  {
   "cell_type": "code",
   "execution_count": 189,
   "metadata": {
    "collapsed": false
   },
   "outputs": [
    {
     "data": {
      "text/plain": [
       "undefined"
      ]
     },
     "execution_count": 189,
     "metadata": {},
     "output_type": "execute_result"
    }
   ],
   "source": [
    "// Test typeCheck with 10 good tests covering the code in increasing order of complexity.\n",
    "// Make sure to test positive and negative cases (cases where typeCheck returns true and false).\n",
    "\n",
    "// Test 0\n",
    "assert.ok(!typeCheck(\"aaa\", makeTeNumber()));\n"
   ]
  },
  {
   "cell_type": "code",
   "execution_count": 190,
   "metadata": {
    "collapsed": false
   },
   "outputs": [
    {
     "data": {
      "text/plain": [
       "undefined"
      ]
     },
     "execution_count": 190,
     "metadata": {},
     "output_type": "execute_result"
    }
   ],
   "source": [
    "\n",
    "// Test 1\n",
    "\n",
    "assert.ok(typeCheck(\"aaa\", makeTeString()));\n"
   ]
  },
  {
   "cell_type": "code",
   "execution_count": 191,
   "metadata": {
    "collapsed": false
   },
   "outputs": [
    {
     "data": {
      "text/plain": [
       "undefined"
      ]
     },
     "execution_count": 191,
     "metadata": {},
     "output_type": "execute_result"
    }
   ],
   "source": [
    "\n",
    "// Test 2\n",
    "\n",
    "assert.ok(!typeCheck(false, makeTeNumber()));\n"
   ]
  },
  {
   "cell_type": "code",
   "execution_count": 192,
   "metadata": {
    "collapsed": false
   },
   "outputs": [
    {
     "data": {
      "text/plain": [
       "undefined"
      ]
     },
     "execution_count": 192,
     "metadata": {},
     "output_type": "execute_result"
    }
   ],
   "source": [
    "// Test 3\n",
    "\n",
    "assert.ok(typeCheck(true, makeTeBoolean()));\n"
   ]
  },
  {
   "cell_type": "code",
   "execution_count": 193,
   "metadata": {
    "collapsed": false
   },
   "outputs": [
    {
     "data": {
      "text/plain": [
       "undefined"
      ]
     },
     "execution_count": 193,
     "metadata": {},
     "output_type": "execute_result"
    }
   ],
   "source": [
    "\n",
    "// Test 4\n",
    "\n",
    "assert.ok(typeCheck([false, false, true], makeTeArray(makeTeBoolean())));\n"
   ]
  },
  {
   "cell_type": "code",
   "execution_count": 194,
   "metadata": {
    "collapsed": false
   },
   "outputs": [
    {
     "data": {
      "text/plain": [
       "undefined"
      ]
     },
     "execution_count": 194,
     "metadata": {},
     "output_type": "execute_result"
    }
   ],
   "source": [
    "// Test 5\n",
    "\n",
    "assert.ok(typeCheck({\"key\":5, \"b\":6}, makeTeMap({\"sva\":makeTeNumber()})));\n"
   ]
  },
  {
   "cell_type": "code",
   "execution_count": 195,
   "metadata": {
    "collapsed": false
   },
   "outputs": [
    {
     "data": {
      "text/plain": [
       "undefined"
      ]
     },
     "execution_count": 195,
     "metadata": {},
     "output_type": "execute_result"
    }
   ],
   "source": [
    "\n",
    "// Test 6\n",
    "\n",
    "assert.ok(!typeCheck({\"a\" : [true, \"b\", 5]}, makeTeArray(makeTeMap({\"sva\":makeTeBoolean()}))));\n"
   ]
  },
  {
   "cell_type": "code",
   "execution_count": 196,
   "metadata": {
    "collapsed": false
   },
   "outputs": [
    {
     "data": {
      "text/plain": [
       "undefined"
      ]
     },
     "execution_count": 196,
     "metadata": {},
     "output_type": "execute_result"
    }
   ],
   "source": [
    "\n",
    "// Test 7\n",
    "\n",
    "assert.ok(typeCheck({\"a\" : [true, false, true]}, makeTeMap({\"sva\":makeTeArray(makeTeBoolean())})));\n"
   ]
  },
  {
   "cell_type": "code",
   "execution_count": 197,
   "metadata": {
    "collapsed": false
   },
   "outputs": [
    {
     "data": {
      "text/plain": [
       "undefined"
      ]
     },
     "execution_count": 197,
     "metadata": {},
     "output_type": "execute_result"
    }
   ],
   "source": [
    "\n",
    "// Test 8\n",
    "\n",
    "assert.ok(typeCheck([{\"a\":\"1\"}], makeTeArray(makeTeMap({\"sva\":makeTeString()}))));\n"
   ]
  },
  {
   "cell_type": "code",
   "execution_count": 198,
   "metadata": {
    "collapsed": false,
    "scrolled": true
   },
   "outputs": [
    {
     "data": {
      "text/plain": [
       "undefined"
      ]
     },
     "execution_count": 198,
     "metadata": {},
     "output_type": "execute_result"
    }
   ],
   "source": [
    "\n",
    "// Test 9\n",
    "\n",
    "\n",
    "assert.ok(!typeCheck([{\"a\":1,\"c\":2,\"b\":3}], makeTeMap({\"sva\":makeTeArray(makeTeNumber())})));\n"
   ]
  },
  {
   "cell_type": "code",
   "execution_count": null,
   "metadata": {
    "collapsed": true
   },
   "outputs": [],
   "source": []
  },
  {
   "cell_type": "code",
   "execution_count": null,
   "metadata": {
    "collapsed": true
   },
   "outputs": [],
   "source": []
  }
 ],
 "metadata": {
  "anaconda-cloud": {},
  "kernelspec": {
   "display_name": "Typescript 2.2",
   "language": "typescript",
   "name": "typescript"
  },
  "language_info": {
   "file_extension": ".ts",
   "mimetype": "text/x-typescript",
   "name": "typescript",
   "version": "2.2.1"
  }
 },
 "nbformat": 4,
 "nbformat_minor": 1
}
